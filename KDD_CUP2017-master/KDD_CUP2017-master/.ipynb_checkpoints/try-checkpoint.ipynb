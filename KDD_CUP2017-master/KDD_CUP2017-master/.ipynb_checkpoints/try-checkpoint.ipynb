{
 "cells": [
  {
   "cell_type": "code",
   "execution_count": 608,
   "metadata": {
    "collapsed": true
   },
   "outputs": [],
   "source": [
    "from __future__ import division\n",
    "\n",
    "import pandas as pd\n",
    "import numpy as np\n",
    "import math\n",
    "from datetime import datetime,timedelta,time\n",
    "\n",
    "%matplotlib inline"
   ]
  },
  {
   "cell_type": "code",
   "execution_count": 42,
   "metadata": {
    "collapsed": true
   },
   "outputs": [],
   "source": [
    "training_path = 'dataSets/training/'\n",
    "test_path1 = 'dataSets/testing_phase1/'"
   ]
  },
  {
   "cell_type": "code",
   "execution_count": 43,
   "metadata": {
    "collapsed": false
   },
   "outputs": [],
   "source": [
    "training_traj = pd.read_csv(training_path+'trajectories(table 5)_training.csv')"
   ]
  },
  {
   "cell_type": "code",
   "execution_count": 44,
   "metadata": {
    "collapsed": false
   },
   "outputs": [],
   "source": [
    "test_traj1 = pd.read_csv(test_path1+'trajectories(table 5)_test1.csv')"
   ]
  },
  {
   "cell_type": "code",
   "execution_count": 45,
   "metadata": {
    "collapsed": true
   },
   "outputs": [],
   "source": [
    "def time_to_window(x):\n",
    "    dt = datetime.strptime(x, \"%Y-%m-%d %H:%M:%S\")\n",
    "    dtmin = int(dt.minute / 20) * 20\n",
    "    dtwindow = datetime(dt.year, dt.month, dt.day, dt.hour, dtmin, 0)\n",
    "    return dtwindow"
   ]
  },
  {
   "cell_type": "code",
   "execution_count": 46,
   "metadata": {
    "collapsed": true
   },
   "outputs": [],
   "source": [
    "def format_window(wd):\n",
    "    return '[{},{})'.format(str(wd), str(wd+timedelta(minutes=20)))"
   ]
  },
  {
   "cell_type": "code",
   "execution_count": 47,
   "metadata": {
    "collapsed": true
   },
   "outputs": [],
   "source": [
    "#training_traj['starting_datetime'] = pd.to_datetime(training_path['starting_time'])\n",
    "training_traj['window'] = training_traj['starting_time'].apply(time_to_window)\n",
    "\n",
    "training_traj_group_mean = \\\n",
    "training_traj.groupby(['intersection_id','tollgate_id','window']).mean()['travel_time']\n",
    "\n",
    "training_traj_group_count = \\\n",
    "training_traj.groupby(['intersection_id','tollgate_id','window']).count()['travel_time']"
   ]
  },
  {
   "cell_type": "code",
   "execution_count": null,
   "metadata": {
    "collapsed": true
   },
   "outputs": [],
   "source": []
  },
  {
   "cell_type": "code",
   "execution_count": 48,
   "metadata": {
    "collapsed": false
   },
   "outputs": [],
   "source": [
    "ss = pd.read_csv('submission/submission_sample_travelTime.csv')"
   ]
  },
  {
   "cell_type": "code",
   "execution_count": 49,
   "metadata": {
    "collapsed": false
   },
   "outputs": [
    {
     "name": "stdout",
     "output_type": "stream",
     "text": [
      "[2016-10-18 08:00:00,2016-10-18 08:20:00)\n",
      "[2016-07-19 00:00:00,2016-07-19 00:20:00)\n"
     ]
    }
   ],
   "source": [
    "print(ss['time_window'][0])\n",
    "print(format_window(training_traj['window'][0]))"
   ]
  },
  {
   "cell_type": "code",
   "execution_count": 50,
   "metadata": {
    "collapsed": true
   },
   "outputs": [],
   "source": [
    "from datetime import date, time"
   ]
  },
  {
   "cell_type": "code",
   "execution_count": 51,
   "metadata": {
    "collapsed": false
   },
   "outputs": [],
   "source": [
    "date_list = []\n",
    "\n",
    "d1 = date(2016, 7, 19)  # start date\n",
    "d2 = date(2016, 10, 17)  # end date\n",
    "\n",
    "delta = d2 - d1         # timedelta\n",
    "\n",
    "for i in range(delta.days + 1):\n",
    "    date_list.append(d1 + timedelta(days=i))\n",
    "\n",
    "give_time_list1 = [time(6,0), time(6,20), time(6,40), \n",
    "                   time(7,0), time(7,20), time(7,40)]\n",
    "pred_time_list1 = [time(8,0), time(8,20), time(8,40), \n",
    "                   time(9,0), time(9,20), time(9,40)]\n",
    "\n",
    "give_time_list2 = [time(15,0), time(15,20), time(15,40), \n",
    "                   time(16,0), time(16,20), time(16,40)]\n",
    "pred_time_list2 = [time(17,0), time(17,20), time(17,40), \n",
    "                   time(18,0), time(18,20), time(18,40)]\n"
   ]
  },
  {
   "cell_type": "code",
   "execution_count": 52,
   "metadata": {
    "collapsed": true
   },
   "outputs": [],
   "source": [
    "date_list2 = []\n",
    "\n",
    "d1 = date(2016, 10, 11)  # start date\n",
    "d2 = date(2016, 10, 17)  # end date\n",
    "\n",
    "delta = d2 - d1         # timedelta\n",
    "\n",
    "for i in range(delta.days + 1):\n",
    "    date_list2.append(d1 + timedelta(days=i))\n"
   ]
  },
  {
   "cell_type": "code",
   "execution_count": null,
   "metadata": {
    "collapsed": true
   },
   "outputs": [],
   "source": []
  },
  {
   "cell_type": "code",
   "execution_count": 53,
   "metadata": {
    "collapsed": false
   },
   "outputs": [],
   "source": [
    "# A2m.index[300].weekday()"
   ]
  },
  {
   "cell_type": "code",
   "execution_count": null,
   "metadata": {
    "collapsed": true
   },
   "outputs": [],
   "source": []
  },
  {
   "cell_type": "code",
   "execution_count": 84,
   "metadata": {
    "collapsed": true
   },
   "outputs": [],
   "source": [
    "def interpolate_missing_window(x):\n",
    "    ss = [(i-datetime(1970,1,1)).total_seconds() for i in x.index]\n",
    "    tt = x.values\n",
    "    ssall = np.linspace(ss[0], ss[-1], (ss[-1]-ss[0])/1200+1)\n",
    "    #print(len(ss), len(tt), len(ssall))\n",
    "    ttall = np.interp(ssall, ss, tt)\n",
    "    ssall = [int(i) for i in ssall]\n",
    "    ssall = [datetime(1970,1,1)+timedelta(seconds=i) for i in ssall]\n",
    "    return pd.Series(index=ssall, data=ttall)"
   ]
  },
  {
   "cell_type": "code",
   "execution_count": 55,
   "metadata": {
    "collapsed": false
   },
   "outputs": [],
   "source": [
    "# A2m = training_traj_group_mean.loc['A'].loc[2]\n",
    "\n",
    "# A2m = interpolate_missing_window(A2m)\n"
   ]
  },
  {
   "cell_type": "code",
   "execution_count": 101,
   "metadata": {
    "collapsed": false
   },
   "outputs": [
    {
     "data": {
      "text/plain": [
       "91"
      ]
     },
     "execution_count": 101,
     "metadata": {},
     "output_type": "execute_result"
    }
   ],
   "source": [
    "len(date_list)"
   ]
  },
  {
   "cell_type": "code",
   "execution_count": 132,
   "metadata": {
    "collapsed": false
   },
   "outputs": [],
   "source": [
    "first6 = np.array([])\n",
    "next6 = np.array([])\n",
    "for ii, ti in [('A',2),('A',3),('B',1),('B',3),('C',1),('C',3)]:\n",
    "    mtmp = training_traj_group_mean.loc[ii].loc[ti]\n",
    "    mtmp = interpolate_missing_window(mtmp)\n",
    "    test6 = []\n",
    "    for i in date_list:\n",
    "        tmp = []\n",
    "        for j in give_time_list1:\n",
    "            tmp.append(mtmp[datetime.combine(i, j)])\n",
    "        test6.append(tmp)\n",
    "    result6 = test6\n",
    "    first6 = np.append(first6, result6)\n",
    "    \n",
    "    test6 = []\n",
    "    for i in date_list:\n",
    "        tmp = []\n",
    "        for j in pred_time_list1:\n",
    "            tmp.append(mtmp[datetime.combine(i, j)])\n",
    "        test6.append(tmp)\n",
    "    result6 = test6\n",
    "    next6 = np.append(next6, result6)\n"
   ]
  },
  {
   "cell_type": "code",
   "execution_count": 140,
   "metadata": {
    "collapsed": false
   },
   "outputs": [],
   "source": [
    "dfmorning = \\\n",
    "pd.concat([pd.DataFrame(first6.reshape(-1,6)),\n",
    "           pd.DataFrame(next6.reshape(-1,6))], \n",
    "                        axis=1)"
   ]
  },
  {
   "cell_type": "code",
   "execution_count": 141,
   "metadata": {
    "collapsed": false
   },
   "outputs": [],
   "source": [
    "dfmorning.columns=['f0','f1','f2','f3','f4','f5',\n",
    "                   'n0','n1','n2','n3','n4','n5']"
   ]
  },
  {
   "cell_type": "code",
   "execution_count": 195,
   "metadata": {
    "collapsed": true
   },
   "outputs": [],
   "source": [
    "first6 = np.array([])\n",
    "next6 = np.array([])\n",
    "for ii, ti in [('A',2),('A',3),('B',1),('B',3),('C',1),('C',3)]:\n",
    "    mtmp = training_traj_group_mean.loc[ii].loc[ti]\n",
    "    mtmp = interpolate_missing_window(mtmp)\n",
    "    test6 = []\n",
    "    for i in date_list:\n",
    "        tmp = []\n",
    "        for j in give_time_list2:\n",
    "            tmp.append(mtmp[datetime.combine(i, j)])\n",
    "        test6.append(tmp)\n",
    "    result6 = test6\n",
    "    first6 = np.append(first6, result6)\n",
    "    \n",
    "    test6 = []\n",
    "    for i in date_list:\n",
    "        tmp = []\n",
    "        for j in pred_time_list2:\n",
    "            tmp.append(mtmp[datetime.combine(i, j)])\n",
    "        test6.append(tmp)\n",
    "    result6 = test6\n",
    "    next6 = np.append(next6, result6)"
   ]
  },
  {
   "cell_type": "code",
   "execution_count": 196,
   "metadata": {
    "collapsed": true
   },
   "outputs": [],
   "source": [
    "dfnight = \\\n",
    "pd.concat([pd.DataFrame(first6.reshape(-1,6)),\n",
    "           pd.DataFrame(next6.reshape(-1,6))], \n",
    "                        axis=1)"
   ]
  },
  {
   "cell_type": "code",
   "execution_count": 197,
   "metadata": {
    "collapsed": true
   },
   "outputs": [],
   "source": [
    "dfnight.columns=['f0','f1','f2','f3','f4','f5',\n",
    "                   'n0','n1','n2','n3','n4','n5']"
   ]
  },
  {
   "cell_type": "code",
   "execution_count": null,
   "metadata": {
    "collapsed": true
   },
   "outputs": [],
   "source": []
  },
  {
   "cell_type": "code",
   "execution_count": 199,
   "metadata": {
    "collapsed": false
   },
   "outputs": [
    {
     "data": {
      "text/plain": [
       "0.24960680174029845"
      ]
     },
     "execution_count": 199,
     "metadata": {},
     "output_type": "execute_result"
    }
   ],
   "source": [
    "pred_loss(dfnight['f5'], dfnight['n1'])\n"
   ]
  },
  {
   "cell_type": "code",
   "execution_count": 201,
   "metadata": {
    "collapsed": false
   },
   "outputs": [],
   "source": [
    "dfmorning['dn'] = 0\n",
    "dfnight['dn'] = 1\n",
    "dfall = pd.concat([dfmorning, dfnight], axis=0)"
   ]
  },
  {
   "cell_type": "code",
   "execution_count": null,
   "metadata": {
    "collapsed": true
   },
   "outputs": [],
   "source": []
  },
  {
   "cell_type": "code",
   "execution_count": 498,
   "metadata": {
    "collapsed": true
   },
   "outputs": [],
   "source": [
    "dfalltrain = dfall.iloc[:-84]\n",
    "dfalltest = dfall.iloc[-84:]"
   ]
  },
  {
   "cell_type": "code",
   "execution_count": null,
   "metadata": {
    "collapsed": true
   },
   "outputs": [],
   "source": []
  },
  {
   "cell_type": "code",
   "execution_count": 523,
   "metadata": {
    "collapsed": true
   },
   "outputs": [],
   "source": [
    "from sklearn.linear_model import LinearRegression\n",
    "from sklearn.ensemble import RandomForestRegressor\n",
    "import xgboost"
   ]
  },
  {
   "cell_type": "code",
   "execution_count": 534,
   "metadata": {
    "collapsed": true
   },
   "outputs": [],
   "source": [
    "def set_pred_window(i):\n",
    "    Y = dfalltrain.iloc[:,6+i]\n",
    "    Yt = dfalltest.iloc[:,6+i]\n",
    "    return Y, Yt"
   ]
  },
  {
   "cell_type": "code",
   "execution_count": 672,
   "metadata": {
    "collapsed": true
   },
   "outputs": [],
   "source": [
    "X = dfalltrain.iloc[:,[0,1,2,3,4,5,-1]]\n",
    "Xt = dfalltest.iloc[:,[0,1,2,3,4,5,-1]]"
   ]
  },
  {
   "cell_type": "code",
   "execution_count": null,
   "metadata": {
    "collapsed": true
   },
   "outputs": [],
   "source": []
  },
  {
   "cell_type": "code",
   "execution_count": 674,
   "metadata": {
    "collapsed": false
   },
   "outputs": [],
   "source": [
    "Y, Yt = set_pred_window(1)"
   ]
  },
  {
   "cell_type": "code",
   "execution_count": 675,
   "metadata": {
    "collapsed": false
   },
   "outputs": [
    {
     "name": "stdout",
     "output_type": "stream",
     "text": [
      "0.227140679843\n",
      "0.157389050448\n"
     ]
    }
   ],
   "source": [
    "lm = LinearRegression(fit_intercept=True)\n",
    "lm.fit(X, Y)\n",
    "print pred_loss(lm.predict(X), Y)\n",
    "print pred_loss(lm.predict(Xt), Yt)"
   ]
  },
  {
   "cell_type": "code",
   "execution_count": 676,
   "metadata": {
    "collapsed": false
   },
   "outputs": [
    {
     "name": "stdout",
     "output_type": "stream",
     "text": [
      "0.224073355863\n",
      "0.172126615915\n"
     ]
    }
   ],
   "source": [
    "lm = RandomForestRegressor(max_depth=3)\n",
    "lm.fit(X, Y)\n",
    "print pred_loss(lm.predict(X), Y)\n",
    "print pred_loss(lm.predict(Xt), Yt)"
   ]
  },
  {
   "cell_type": "code",
   "execution_count": 677,
   "metadata": {
    "collapsed": false
   },
   "outputs": [
    {
     "data": {
      "text/plain": [
       "0.16370041917290754"
      ]
     },
     "execution_count": 677,
     "metadata": {},
     "output_type": "execute_result"
    }
   ],
   "source": [
    "meandf = (dfalltest['f0']+dfalltest['f1']+dfalltest['f2']+\n",
    "          dfalltest['f3']+dfalltest['f4']+dfalltest['f5'])/6\n",
    "\n",
    "np.mean([pred_loss(meandf, dfalltest[idd]) \n",
    "         for idd in ['n1']])"
   ]
  },
  {
   "cell_type": "code",
   "execution_count": 678,
   "metadata": {
    "collapsed": false
   },
   "outputs": [
    {
     "name": "stdout",
     "output_type": "stream",
     "text": [
      "0.18382937898\n",
      "0.157389050448\n",
      "0.169302876661\n",
      "0.182489311654\n",
      "0.184744055107\n",
      "0.191570514444\n"
     ]
    }
   ],
   "source": [
    "lm_list = []\n",
    "for i in range(6):\n",
    "    Y, Yt = set_pred_window(i)\n",
    "    lm = LinearRegression(fit_intercept=True)\n",
    "    lm.fit(X, Y)\n",
    "    #print pred_loss(lm.predict(X), Y)\n",
    "    print pred_loss(lm.predict(Xt), Yt)\n",
    "    lm_list.append(lm)"
   ]
  },
  {
   "cell_type": "code",
   "execution_count": 525,
   "metadata": {
    "collapsed": false
   },
   "outputs": [
    {
     "name": "stdout",
     "output_type": "stream",
     "text": [
      "0.165805915328\n",
      "0.262077128056\n"
     ]
    }
   ],
   "source": [
    "# lm = xgboost.XGBClassifier()\n",
    "# lm.fit(X, Y)\n",
    "# print pred_loss(lm.predict(X), Y)\n",
    "# print pred_loss(lm.predict(Xt), Yt)"
   ]
  },
  {
   "cell_type": "code",
   "execution_count": null,
   "metadata": {
    "collapsed": true
   },
   "outputs": [],
   "source": []
  },
  {
   "cell_type": "code",
   "execution_count": null,
   "metadata": {
    "collapsed": true
   },
   "outputs": [],
   "source": []
  },
  {
   "cell_type": "code",
   "execution_count": null,
   "metadata": {
    "collapsed": true
   },
   "outputs": [],
   "source": []
  },
  {
   "cell_type": "code",
   "execution_count": 509,
   "metadata": {
    "collapsed": false
   },
   "outputs": [
    {
     "data": {
      "text/plain": [
       "0.23057448974935238"
      ]
     },
     "execution_count": 509,
     "metadata": {},
     "output_type": "execute_result"
    }
   ],
   "source": [
    "meandf = (dfall['f0']+dfall['f1']+dfall['f2']+\n",
    "          dfall['f3']+dfall['f4']+dfall['f5'])/6\n",
    "\n",
    "np.mean([pred_loss(meandf, dfall[idd]) \n",
    "         for idd in ['n0','n1','n2','n3','n4','n5']])"
   ]
  },
  {
   "cell_type": "code",
   "execution_count": 510,
   "metadata": {
    "collapsed": false
   },
   "outputs": [
    {
     "data": {
      "text/plain": [
       "0.1855935405015712"
      ]
     },
     "execution_count": 510,
     "metadata": {},
     "output_type": "execute_result"
    }
   ],
   "source": [
    "meandf = (dfalltest['f0']+dfalltest['f1']+dfalltest['f2']+\n",
    "          dfalltest['f3']+dfalltest['f4']+dfalltest['f5'])/6\n",
    "\n",
    "np.mean([pred_loss(meandf, dfalltest[idd]) \n",
    "         for idd in ['n0','n1','n2','n3','n4','n5']])"
   ]
  },
  {
   "cell_type": "code",
   "execution_count": null,
   "metadata": {
    "collapsed": true
   },
   "outputs": [],
   "source": []
  },
  {
   "cell_type": "code",
   "execution_count": 467,
   "metadata": {
    "collapsed": false
   },
   "outputs": [
    {
     "data": {
      "text/plain": [
       "0.24447079035997757"
      ]
     },
     "execution_count": 467,
     "metadata": {},
     "output_type": "execute_result"
    }
   ],
   "source": [
    "meandf = (dfmorning['f0']+dfmorning['f1']+dfmorning['f2']+dfmorning['f3']+dfmorning['f4']+dfmorning['f5'])/6\n",
    "\n",
    "np.mean([pred_loss(meandf, dfmorning[idd]) for idd in ['n0','n1','n2','n3','n4','n5']])"
   ]
  },
  {
   "cell_type": "code",
   "execution_count": null,
   "metadata": {
    "collapsed": true
   },
   "outputs": [],
   "source": []
  },
  {
   "cell_type": "code",
   "execution_count": null,
   "metadata": {
    "collapsed": true
   },
   "outputs": [],
   "source": []
  },
  {
   "cell_type": "code",
   "execution_count": null,
   "metadata": {
    "collapsed": true
   },
   "outputs": [],
   "source": []
  },
  {
   "cell_type": "code",
   "execution_count": 56,
   "metadata": {
    "collapsed": true
   },
   "outputs": [],
   "source": [
    "from scipy.stats import gmean"
   ]
  },
  {
   "cell_type": "code",
   "execution_count": 470,
   "metadata": {
    "collapsed": true
   },
   "outputs": [],
   "source": [
    "def sub1(x):\n",
    "    return np.repeat([np.mean(i) for i in x], 6)"
   ]
  },
  {
   "cell_type": "code",
   "execution_count": 471,
   "metadata": {
    "collapsed": true
   },
   "outputs": [],
   "source": [
    "def sub2(x):\n",
    "    return np.repeat([gmean(i) for i in x], 6)"
   ]
  },
  {
   "cell_type": "code",
   "execution_count": null,
   "metadata": {
    "collapsed": true
   },
   "outputs": [],
   "source": []
  },
  {
   "cell_type": "code",
   "execution_count": null,
   "metadata": {
    "collapsed": true
   },
   "outputs": [],
   "source": []
  },
  {
   "cell_type": "code",
   "execution_count": null,
   "metadata": {
    "collapsed": true
   },
   "outputs": [],
   "source": []
  },
  {
   "cell_type": "code",
   "execution_count": 184,
   "metadata": {
    "collapsed": true
   },
   "outputs": [],
   "source": [
    "def pred_loss(x_pred, x_true):\n",
    "    x_pred = np.array(x_pred)\n",
    "    x_true = np.array(x_true)\n",
    "    return (abs(x_pred-x_true)/x_true).mean()"
   ]
  },
  {
   "cell_type": "code",
   "execution_count": 483,
   "metadata": {
    "collapsed": true
   },
   "outputs": [],
   "source": [
    "def true_value(date_list):\n",
    "    morning_true = np.array([])\n",
    "    for ii, ti in [('A',2),('A',3),('B',1),('B',3),('C',1),('C',3)]:\n",
    "        mtmp = training_traj_group_mean.loc[ii].loc[ti]\n",
    "        mtmp = interpolate_missing_window(mtmp)\n",
    "        test6 = []\n",
    "        for i in date_list:\n",
    "            tmp = []\n",
    "            for j in pred_time_list1:\n",
    "                tmp.append(mtmp[datetime.combine(i, j)])\n",
    "            test6.append(tmp)\n",
    "        result6 = test6\n",
    "        morning_true = np.append(morning_true, result6)\n",
    "    return morning_true"
   ]
  },
  {
   "cell_type": "code",
   "execution_count": 484,
   "metadata": {
    "collapsed": true
   },
   "outputs": [],
   "source": [
    "def prediction(date_list, func):\n",
    "    morning_pred = np.array([])\n",
    "    for ii, ti in [('A',2),('A',3),('B',1),('B',3),('C',1),('C',3)]:\n",
    "        mtmp = training_traj_group_mean.loc[ii].loc[ti]\n",
    "        mtmp = interpolate_missing_window(mtmp)    \n",
    "        test6 = []\n",
    "        for i in date_list:\n",
    "            tmp = []\n",
    "            for j in give_time_list1:\n",
    "                tmp.append(mtmp[datetime.combine(i, j)])\n",
    "            test6.append(tmp)\n",
    "        result6 = func(test6)\n",
    "        morning_pred = np.append(morning_pred, result6) \n",
    "    return morning_pred"
   ]
  },
  {
   "cell_type": "code",
   "execution_count": 485,
   "metadata": {
    "collapsed": true
   },
   "outputs": [],
   "source": [
    "def sub3(x):\n",
    "    return np.array([ma(i) for i in x]).flatten()"
   ]
  },
  {
   "cell_type": "code",
   "execution_count": 486,
   "metadata": {
    "collapsed": true
   },
   "outputs": [],
   "source": [
    "def ma(x):\n",
    "    for i in range(6):\n",
    "        x.append(np.mean(x[i:i+6]))\n",
    "    return x[6:]"
   ]
  },
  {
   "cell_type": "code",
   "execution_count": 487,
   "metadata": {
    "collapsed": false
   },
   "outputs": [
    {
     "data": {
      "text/plain": [
       "array([ 3.5       ,  3.91666667,  4.23611111,  4.44212963,  4.5158179 ,\n",
       "        4.43512088,  4.5       ,  4.91666667,  5.23611111,  5.44212963,\n",
       "        5.5158179 ,  5.43512088])"
      ]
     },
     "execution_count": 487,
     "metadata": {},
     "output_type": "execute_result"
    }
   ],
   "source": [
    "sub3([[1,2,3,4,5,6],[2,3,4,5,6,7]])"
   ]
  },
  {
   "cell_type": "code",
   "execution_count": null,
   "metadata": {
    "collapsed": true
   },
   "outputs": [],
   "source": []
  },
  {
   "cell_type": "code",
   "execution_count": 488,
   "metadata": {
    "collapsed": false
   },
   "outputs": [],
   "source": [
    "morning_true = true_value(date_list)\n",
    "morning_pred = prediction(date_list, sub1)\n"
   ]
  },
  {
   "cell_type": "code",
   "execution_count": 489,
   "metadata": {
    "collapsed": false
   },
   "outputs": [
    {
     "data": {
      "text/plain": [
       "0.24447079035997757"
      ]
     },
     "execution_count": 489,
     "metadata": {},
     "output_type": "execute_result"
    }
   ],
   "source": [
    "pred_loss(morning_pred, morning_true)"
   ]
  },
  {
   "cell_type": "code",
   "execution_count": null,
   "metadata": {
    "collapsed": true
   },
   "outputs": [],
   "source": []
  },
  {
   "cell_type": "code",
   "execution_count": null,
   "metadata": {
    "collapsed": true
   },
   "outputs": [],
   "source": []
  },
  {
   "cell_type": "code",
   "execution_count": 31,
   "metadata": {
    "collapsed": false
   },
   "outputs": [],
   "source": [
    "morning_train66 = []\n",
    "for i in date_list:\n",
    "    tmp = []\n",
    "    for j in give_time_list1:\n",
    "        tmp.append(A2m[datetime.combine(i, j)])\n",
    "    for j in pred_time_list1:\n",
    "        tmp.append(A2m[datetime.combine(i, j)]) \n",
    "    morning_train66.append(tmp)\n",
    "    "
   ]
  },
  {
   "cell_type": "code",
   "execution_count": 49,
   "metadata": {
    "collapsed": true
   },
   "outputs": [],
   "source": [
    "night_train66 = []\n",
    "for i in date_list:\n",
    "    tmp = []\n",
    "    for j in give_time_list2:\n",
    "        tmp.append(A2m[datetime.combine(i, j)])\n",
    "    for j in pred_time_list2:\n",
    "        tmp.append(A2m[datetime.combine(i, j)]) \n",
    "    night_train66.append(tmp)\n",
    "    "
   ]
  },
  {
   "cell_type": "code",
   "execution_count": 33,
   "metadata": {
    "collapsed": true
   },
   "outputs": [],
   "source": []
  },
  {
   "cell_type": "code",
   "execution_count": 34,
   "metadata": {
    "collapsed": false
   },
   "outputs": [],
   "source": [
    "def naive_pred_loss(x):\n",
    "    first6 = x[:6]\n",
    "    pred = [np.mean(first6)]*6\n",
    "    return pred_loss(pred, x[6:])"
   ]
  },
  {
   "cell_type": "code",
   "execution_count": 35,
   "metadata": {
    "collapsed": false
   },
   "outputs": [],
   "source": [
    "naive_loss_list = [naive_pred_loss(i) for i in morning_train66]\n"
   ]
  },
  {
   "cell_type": "code",
   "execution_count": 50,
   "metadata": {
    "collapsed": true
   },
   "outputs": [],
   "source": [
    "naive_loss_list = [naive_pred_loss(i) for i in night_train66]"
   ]
  },
  {
   "cell_type": "code",
   "execution_count": 52,
   "metadata": {
    "collapsed": false
   },
   "outputs": [
    {
     "data": {
      "text/plain": [
       "0.22280558325098837"
      ]
     },
     "execution_count": 52,
     "metadata": {},
     "output_type": "execute_result"
    }
   ],
   "source": [
    "np.mean(naive_loss_list)\n"
   ]
  },
  {
   "cell_type": "code",
   "execution_count": null,
   "metadata": {
    "collapsed": true
   },
   "outputs": [],
   "source": []
  },
  {
   "cell_type": "markdown",
   "metadata": {
    "collapsed": true
   },
   "source": [
    "# Make first submission "
   ]
  },
  {
   "cell_type": "markdown",
   "metadata": {},
   "source": [
    "Most naive approach, use average of the former 2 hours for prediction."
   ]
  },
  {
   "cell_type": "markdown",
   "metadata": {},
   "source": [
    "Change algebraic average to geometric average for second submission."
   ]
  },
  {
   "cell_type": "code",
   "execution_count": 680,
   "metadata": {
    "collapsed": true
   },
   "outputs": [],
   "source": [
    "#training_traj['starting_datetime'] = pd.to_datetime(training_path['starting_time'])\n",
    "training_traj['window'] = training_traj['starting_time'].apply(time_to_window)\n",
    "\n",
    "training_traj_group_mean = \\\n",
    "training_traj.groupby(['intersection_id','tollgate_id','window']).mean()['travel_time']\n",
    "\n",
    "training_traj_group_count = \\\n",
    "training_traj.groupby(['intersection_id','tollgate_id','window']).count()['travel_time']"
   ]
  },
  {
   "cell_type": "code",
   "execution_count": 681,
   "metadata": {
    "collapsed": true
   },
   "outputs": [],
   "source": [
    "test_traj1['window'] = test_traj1['starting_time'].apply(time_to_window)\n",
    "test_traj1_group_mean = \\\n",
    "test_traj1.groupby(['intersection_id','tollgate_id','window']).mean()['travel_time']\n",
    "\n"
   ]
  },
  {
   "cell_type": "code",
   "execution_count": 682,
   "metadata": {
    "collapsed": false
   },
   "outputs": [],
   "source": [
    "date_list = []\n",
    "\n",
    "d1 = date(2016, 10, 18)  # start date\n",
    "d2 = date(2016, 10, 24)  # end date\n",
    "\n",
    "delta = d2 - d1         # timedelta\n",
    "\n",
    "for i in range(delta.days + 1):\n",
    "    date_list.append(d1 + timedelta(days=i))\n",
    "\n",
    "give_time_list1 = [time(6,0), time(6,20), time(6,40), \n",
    "                   time(7,0), time(7,20), time(7,40)]\n",
    "# pred_time_list1 = [time(8,0), time(8,20), time(8,40), \n",
    "#                    time(9,0), time(9,20), time(9,40)]\n",
    "give_time_list2 = [time(15,0), time(15,20), time(15,40), \n",
    "                   time(16,0), time(16,20), time(16,40)]"
   ]
  },
  {
   "cell_type": "code",
   "execution_count": null,
   "metadata": {
    "collapsed": true
   },
   "outputs": [],
   "source": []
  },
  {
   "cell_type": "code",
   "execution_count": 683,
   "metadata": {
    "collapsed": false
   },
   "outputs": [],
   "source": [
    "A2mt = test_traj1_group_mean.loc['A'].loc[2]\n",
    "A2mt = interpolate_missing_window(A2mt)"
   ]
  },
  {
   "cell_type": "code",
   "execution_count": 684,
   "metadata": {
    "collapsed": false
   },
   "outputs": [],
   "source": [
    "morning_test6 = []\n",
    "for i in date_list:\n",
    "    tmp = []\n",
    "    for j in give_time_list1:\n",
    "        tmp.append(A2mt[datetime.combine(i, j)])\n",
    "    morning_test6.append(tmp)"
   ]
  },
  {
   "cell_type": "code",
   "execution_count": 685,
   "metadata": {
    "collapsed": false
   },
   "outputs": [
    {
     "data": {
      "text/plain": [
       "[41.18833333333334,\n",
       " 50.115714285714283,\n",
       " 37.168000000000006,\n",
       " 75.683750000000003,\n",
       " 54.032857142857146,\n",
       " 78.277999999999992]"
      ]
     },
     "execution_count": 685,
     "metadata": {},
     "output_type": "execute_result"
    }
   ],
   "source": [
    "tmp"
   ]
  },
  {
   "cell_type": "code",
   "execution_count": null,
   "metadata": {
    "collapsed": true
   },
   "outputs": [],
   "source": []
  },
  {
   "cell_type": "code",
   "execution_count": 694,
   "metadata": {
    "collapsed": false,
    "scrolled": true
   },
   "outputs": [
    {
     "data": {
      "text/plain": [
       "window\n",
       "2016-10-18 06:00:00    41.097143\n",
       "2016-10-18 06:20:00    43.681667\n",
       "2016-10-18 06:40:00    68.024286\n",
       "2016-10-18 07:00:00    52.608333\n",
       "2016-10-18 07:20:00    56.165556\n",
       "2016-10-18 07:40:00    63.598571\n",
       "Name: travel_time, dtype: float64"
      ]
     },
     "execution_count": 694,
     "metadata": {},
     "output_type": "execute_result"
    }
   ],
   "source": [
    "test_traj1_group_mean.loc['A'].loc[2].iloc[:6]"
   ]
  },
  {
   "cell_type": "code",
   "execution_count": 691,
   "metadata": {
    "collapsed": false
   },
   "outputs": [
    {
     "data": {
      "text/plain": [
       "array([  5.04271725e-02,   1.05088511e-04,   8.62233252e-02,\n",
       "         2.15531389e-01,   1.64171633e-01,   2.89879520e-01,\n",
       "        -6.00652007e+00])"
      ]
     },
     "execution_count": 691,
     "metadata": {},
     "output_type": "execute_result"
    }
   ],
   "source": [
    "lm_list[0].coef_"
   ]
  },
  {
   "cell_type": "code",
   "execution_count": 692,
   "metadata": {
    "collapsed": false
   },
   "outputs": [
    {
     "data": {
      "text/plain": [
       "30.893025008264075"
      ]
     },
     "execution_count": 692,
     "metadata": {},
     "output_type": "execute_result"
    }
   ],
   "source": [
    "lm_list[0].intercept_"
   ]
  },
  {
   "cell_type": "code",
   "execution_count": null,
   "metadata": {
    "collapsed": true
   },
   "outputs": [],
   "source": []
  },
  {
   "cell_type": "code",
   "execution_count": 686,
   "metadata": {
    "collapsed": true
   },
   "outputs": [],
   "source": [
    "def predict_from_lm(t6, dn):\n",
    "    return [lm_list[i].predict(np.array(t6+[dn]).reshape(1,-1))[0] \\\n",
    "            for i in range(6)]"
   ]
  },
  {
   "cell_type": "code",
   "execution_count": 687,
   "metadata": {
    "collapsed": false
   },
   "outputs": [],
   "source": [
    "morning = np.array([])\n",
    "for ii, ti in [('A',2),('A',3),('B',1),('B',3),('C',1),('C',3)]:\n",
    "    mtmp = test_traj1_group_mean.loc[ii].loc[ti]\n",
    "    mtmp = interpolate_missing_window(mtmp)\n",
    "    test6 = []\n",
    "    for i in date_list:\n",
    "        tmp = []\n",
    "        for j in give_time_list1:\n",
    "            tmp.append(mtmp[datetime.combine(i, j)])\n",
    "        test6.append(tmp)\n",
    "    result6 = [predict_from_lm(i, 0) for i in test6]\n",
    "    result6 = [item for sublist in result6 for item in sublist]\n",
    "    #result6 = np.repeat([gmean(i) for i in test6], 6)\n",
    "    morning = np.append(morning, result6)\n",
    "    "
   ]
  },
  {
   "cell_type": "code",
   "execution_count": 688,
   "metadata": {
    "collapsed": false
   },
   "outputs": [],
   "source": [
    "night = np.array([])\n",
    "for ii, ti in [('A',2),('A',3),('B',1),('B',3),('C',1),('C',3)]:\n",
    "    mtmp = test_traj1_group_mean.loc[ii].loc[ti]\n",
    "    mtmp = interpolate_missing_window(mtmp)\n",
    "    test6 = []\n",
    "    for i in date_list:\n",
    "        tmp = []\n",
    "        for j in give_time_list2:\n",
    "            tmp.append(mtmp[datetime.combine(i, j)])\n",
    "        test6.append(tmp)\n",
    "    result6 = [predict_from_lm(i, 1) for i in test6]\n",
    "    result6 = [item for sublist in result6 for item in sublist]\n",
    "    #result6 = np.repeat([gmean(i) for i in test6], 6)\n",
    "    night = np.append(night, result6)"
   ]
  },
  {
   "cell_type": "code",
   "execution_count": 689,
   "metadata": {
    "collapsed": false
   },
   "outputs": [],
   "source": [
    "ss['avg_travel_time'] = np.append(morning, night)"
   ]
  },
  {
   "cell_type": "code",
   "execution_count": 690,
   "metadata": {
    "collapsed": false
   },
   "outputs": [
    {
     "data": {
      "text/html": [
       "<div>\n",
       "<table border=\"1\" class=\"dataframe\">\n",
       "  <thead>\n",
       "    <tr style=\"text-align: right;\">\n",
       "      <th></th>\n",
       "      <th>intersection_id</th>\n",
       "      <th>tollgate_id</th>\n",
       "      <th>time_window</th>\n",
       "      <th>avg_travel_time</th>\n",
       "    </tr>\n",
       "  </thead>\n",
       "  <tbody>\n",
       "    <tr>\n",
       "      <th>0</th>\n",
       "      <td>A</td>\n",
       "      <td>2</td>\n",
       "      <td>[2016-10-18 08:00:00,2016-10-18 08:20:00)</td>\n",
       "      <td>77.830770</td>\n",
       "    </tr>\n",
       "    <tr>\n",
       "      <th>1</th>\n",
       "      <td>A</td>\n",
       "      <td>2</td>\n",
       "      <td>[2016-10-18 08:20:00,2016-10-18 08:40:00)</td>\n",
       "      <td>80.071507</td>\n",
       "    </tr>\n",
       "    <tr>\n",
       "      <th>2</th>\n",
       "      <td>A</td>\n",
       "      <td>2</td>\n",
       "      <td>[2016-10-18 08:40:00,2016-10-18 09:00:00)</td>\n",
       "      <td>86.402262</td>\n",
       "    </tr>\n",
       "    <tr>\n",
       "      <th>3</th>\n",
       "      <td>A</td>\n",
       "      <td>2</td>\n",
       "      <td>[2016-10-18 09:00:00,2016-10-18 09:20:00)</td>\n",
       "      <td>89.841479</td>\n",
       "    </tr>\n",
       "    <tr>\n",
       "      <th>4</th>\n",
       "      <td>A</td>\n",
       "      <td>2</td>\n",
       "      <td>[2016-10-18 09:20:00,2016-10-18 09:40:00)</td>\n",
       "      <td>88.785946</td>\n",
       "    </tr>\n",
       "    <tr>\n",
       "      <th>5</th>\n",
       "      <td>A</td>\n",
       "      <td>2</td>\n",
       "      <td>[2016-10-18 09:40:00,2016-10-18 10:00:00)</td>\n",
       "      <td>86.286607</td>\n",
       "    </tr>\n",
       "    <tr>\n",
       "      <th>6</th>\n",
       "      <td>A</td>\n",
       "      <td>2</td>\n",
       "      <td>[2016-10-19 08:00:00,2016-10-19 08:20:00)</td>\n",
       "      <td>84.473507</td>\n",
       "    </tr>\n",
       "    <tr>\n",
       "      <th>7</th>\n",
       "      <td>A</td>\n",
       "      <td>2</td>\n",
       "      <td>[2016-10-19 08:20:00,2016-10-19 08:40:00)</td>\n",
       "      <td>87.113912</td>\n",
       "    </tr>\n",
       "    <tr>\n",
       "      <th>8</th>\n",
       "      <td>A</td>\n",
       "      <td>2</td>\n",
       "      <td>[2016-10-19 08:40:00,2016-10-19 09:00:00)</td>\n",
       "      <td>97.817200</td>\n",
       "    </tr>\n",
       "    <tr>\n",
       "      <th>9</th>\n",
       "      <td>A</td>\n",
       "      <td>2</td>\n",
       "      <td>[2016-10-19 09:00:00,2016-10-19 09:20:00)</td>\n",
       "      <td>94.477799</td>\n",
       "    </tr>\n",
       "    <tr>\n",
       "      <th>10</th>\n",
       "      <td>A</td>\n",
       "      <td>2</td>\n",
       "      <td>[2016-10-19 09:20:00,2016-10-19 09:40:00)</td>\n",
       "      <td>95.930969</td>\n",
       "    </tr>\n",
       "    <tr>\n",
       "      <th>11</th>\n",
       "      <td>A</td>\n",
       "      <td>2</td>\n",
       "      <td>[2016-10-19 09:40:00,2016-10-19 10:00:00)</td>\n",
       "      <td>92.385809</td>\n",
       "    </tr>\n",
       "    <tr>\n",
       "      <th>12</th>\n",
       "      <td>A</td>\n",
       "      <td>2</td>\n",
       "      <td>[2016-10-20 08:00:00,2016-10-20 08:20:00)</td>\n",
       "      <td>87.631485</td>\n",
       "    </tr>\n",
       "    <tr>\n",
       "      <th>13</th>\n",
       "      <td>A</td>\n",
       "      <td>2</td>\n",
       "      <td>[2016-10-20 08:20:00,2016-10-20 08:40:00)</td>\n",
       "      <td>89.772729</td>\n",
       "    </tr>\n",
       "    <tr>\n",
       "      <th>14</th>\n",
       "      <td>A</td>\n",
       "      <td>2</td>\n",
       "      <td>[2016-10-20 08:40:00,2016-10-20 09:00:00)</td>\n",
       "      <td>93.857285</td>\n",
       "    </tr>\n",
       "    <tr>\n",
       "      <th>15</th>\n",
       "      <td>A</td>\n",
       "      <td>2</td>\n",
       "      <td>[2016-10-20 09:00:00,2016-10-20 09:20:00)</td>\n",
       "      <td>99.346288</td>\n",
       "    </tr>\n",
       "    <tr>\n",
       "      <th>16</th>\n",
       "      <td>A</td>\n",
       "      <td>2</td>\n",
       "      <td>[2016-10-20 09:20:00,2016-10-20 09:40:00)</td>\n",
       "      <td>97.444924</td>\n",
       "    </tr>\n",
       "    <tr>\n",
       "      <th>17</th>\n",
       "      <td>A</td>\n",
       "      <td>2</td>\n",
       "      <td>[2016-10-20 09:40:00,2016-10-20 10:00:00)</td>\n",
       "      <td>95.396298</td>\n",
       "    </tr>\n",
       "    <tr>\n",
       "      <th>18</th>\n",
       "      <td>A</td>\n",
       "      <td>2</td>\n",
       "      <td>[2016-10-21 08:00:00,2016-10-21 08:20:00)</td>\n",
       "      <td>79.890185</td>\n",
       "    </tr>\n",
       "    <tr>\n",
       "      <th>19</th>\n",
       "      <td>A</td>\n",
       "      <td>2</td>\n",
       "      <td>[2016-10-21 08:20:00,2016-10-21 08:40:00)</td>\n",
       "      <td>84.389264</td>\n",
       "    </tr>\n",
       "  </tbody>\n",
       "</table>\n",
       "</div>"
      ],
      "text/plain": [
       "   intersection_id  tollgate_id                                time_window  \\\n",
       "0                A            2  [2016-10-18 08:00:00,2016-10-18 08:20:00)   \n",
       "1                A            2  [2016-10-18 08:20:00,2016-10-18 08:40:00)   \n",
       "2                A            2  [2016-10-18 08:40:00,2016-10-18 09:00:00)   \n",
       "3                A            2  [2016-10-18 09:00:00,2016-10-18 09:20:00)   \n",
       "4                A            2  [2016-10-18 09:20:00,2016-10-18 09:40:00)   \n",
       "5                A            2  [2016-10-18 09:40:00,2016-10-18 10:00:00)   \n",
       "6                A            2  [2016-10-19 08:00:00,2016-10-19 08:20:00)   \n",
       "7                A            2  [2016-10-19 08:20:00,2016-10-19 08:40:00)   \n",
       "8                A            2  [2016-10-19 08:40:00,2016-10-19 09:00:00)   \n",
       "9                A            2  [2016-10-19 09:00:00,2016-10-19 09:20:00)   \n",
       "10               A            2  [2016-10-19 09:20:00,2016-10-19 09:40:00)   \n",
       "11               A            2  [2016-10-19 09:40:00,2016-10-19 10:00:00)   \n",
       "12               A            2  [2016-10-20 08:00:00,2016-10-20 08:20:00)   \n",
       "13               A            2  [2016-10-20 08:20:00,2016-10-20 08:40:00)   \n",
       "14               A            2  [2016-10-20 08:40:00,2016-10-20 09:00:00)   \n",
       "15               A            2  [2016-10-20 09:00:00,2016-10-20 09:20:00)   \n",
       "16               A            2  [2016-10-20 09:20:00,2016-10-20 09:40:00)   \n",
       "17               A            2  [2016-10-20 09:40:00,2016-10-20 10:00:00)   \n",
       "18               A            2  [2016-10-21 08:00:00,2016-10-21 08:20:00)   \n",
       "19               A            2  [2016-10-21 08:20:00,2016-10-21 08:40:00)   \n",
       "\n",
       "    avg_travel_time  \n",
       "0         77.830770  \n",
       "1         80.071507  \n",
       "2         86.402262  \n",
       "3         89.841479  \n",
       "4         88.785946  \n",
       "5         86.286607  \n",
       "6         84.473507  \n",
       "7         87.113912  \n",
       "8         97.817200  \n",
       "9         94.477799  \n",
       "10        95.930969  \n",
       "11        92.385809  \n",
       "12        87.631485  \n",
       "13        89.772729  \n",
       "14        93.857285  \n",
       "15        99.346288  \n",
       "16        97.444924  \n",
       "17        95.396298  \n",
       "18        79.890185  \n",
       "19        84.389264  "
      ]
     },
     "execution_count": 690,
     "metadata": {},
     "output_type": "execute_result"
    }
   ],
   "source": [
    "ss.head(20)"
   ]
  },
  {
   "cell_type": "code",
   "execution_count": null,
   "metadata": {
    "collapsed": true
   },
   "outputs": [],
   "source": []
  },
  {
   "cell_type": "code",
   "execution_count": 696,
   "metadata": {
    "collapsed": false
   },
   "outputs": [],
   "source": [
    "ss.to_csv('submission/submission_0403.csv', index=False)"
   ]
  },
  {
   "cell_type": "code",
   "execution_count": null,
   "metadata": {
    "collapsed": true
   },
   "outputs": [],
   "source": []
  },
  {
   "cell_type": "markdown",
   "metadata": {
    "collapsed": true
   },
   "source": [
    "# Following is the script given"
   ]
  },
  {
   "cell_type": "code",
   "execution_count": 18,
   "metadata": {
    "collapsed": false
   },
   "outputs": [
    {
     "name": "stdout",
     "output_type": "stream",
     "text": [
      "\"B\",\"3\",\"1065642\",\"2016-07-19 00:14:24\",\"105#2016-07-19 00:14:24#9.56;100#2016-07-19 00:14:34#6.75;111#2016-07-19 00:14:41#13.00;103#2016-07-19 00:14:54#7.47;122#2016-07-19 00:15:02#32.85\",\"70.85\"\n",
      "\n"
     ]
    }
   ],
   "source": [
    "# -*- coding: utf-8 -*-\n",
    "#!/usr/bin/env python\n",
    "\n",
    "\"\"\"\n",
    "Objective:\n",
    "Calculate the average travel time for each 20-minute time window.\n",
    "\n",
    "\"\"\"\n",
    "\n",
    "# import necessary modules\n",
    "import math\n",
    "from datetime import datetime,timedelta\n",
    "\n",
    "file_suffix = '.csv'\n",
    "path = 'dataSets/training/'  # set the data directory\n",
    "\n",
    "def avgTravelTime(in_file):\n",
    "\n",
    "    out_suffix = '_20min_avg_travel_time'\n",
    "    in_file_name = in_file + file_suffix\n",
    "    out_file_name = in_file.split('_')[1] + out_suffix + file_suffix\n",
    "\n",
    "    # Step 1: Load trajectories\n",
    "    fr = open(path + in_file_name, 'r')\n",
    "    fr.readline()  # skip the header\n",
    "    traj_data = fr.readlines()\n",
    "    fr.close()\n",
    "    print(traj_data[0])\n",
    "\n",
    "    # Step 2: Create a dictionary to store travel time for each route per time window\n",
    "    travel_times = {}  # key: route_id. Value is also a dictionary of which key is the start time for the time window and value is a list of travel times\n",
    "    for i in range(len(traj_data)):\n",
    "        each_traj = traj_data[i].replace('\"', '').split(',')\n",
    "        intersection_id = each_traj[0]\n",
    "        tollgate_id = each_traj[1]\n",
    "\n",
    "        route_id = intersection_id + '-' + tollgate_id\n",
    "        if route_id not in travel_times.keys():\n",
    "            travel_times[route_id] = {}\n",
    "\n",
    "        trace_start_time = each_traj[3]\n",
    "        trace_start_time = datetime.strptime(trace_start_time, \"%Y-%m-%d %H:%M:%S\")\n",
    "        time_window_minute = int(trace_start_time.minute / 20) * 20\n",
    "        start_time_window = datetime(trace_start_time.year, trace_start_time.month, trace_start_time.day,\n",
    "                                     trace_start_time.hour, time_window_minute, 0)\n",
    "        tt = float(each_traj[-1]) # travel time\n",
    "\n",
    "        if start_time_window not in travel_times[route_id].keys():\n",
    "            travel_times[route_id][start_time_window] = [tt]\n",
    "        else:\n",
    "            travel_times[route_id][start_time_window].append(tt)\n",
    "\n",
    "    # Step 3: Calculate average travel time for each route per time window\n",
    "    fw = open(out_file_name, 'w')\n",
    "    fw.writelines(','.join(['\"intersection_id\"', '\"tollgate_id\"', '\"time_window\"', '\"avg_travel_time\"']) + '\\n')\n",
    "    for route in travel_times.keys():\n",
    "        route_time_windows = list(travel_times[route].keys())\n",
    "        route_time_windows.sort()\n",
    "        for time_window_start in route_time_windows:\n",
    "            time_window_end = time_window_start + timedelta(minutes=20)\n",
    "            tt_set = travel_times[route][time_window_start]\n",
    "            avg_tt = round(sum(tt_set) / float(len(tt_set)), 2)\n",
    "            out_line = ','.join(['\"' + route.split('-')[0] + '\"', '\"' + route.split('-')[1] + '\"',\n",
    "                                 '\"[' + str(time_window_start) + ',' + str(time_window_end) + ')\"',\n",
    "                                 '\"' + str(avg_tt) + '\"']) + '\\n'\n",
    "            fw.writelines(out_line)\n",
    "    fw.close()\n",
    "\n",
    "def main():\n",
    "\n",
    "    in_file = 'trajectories(table 5)_training'\n",
    "    avgTravelTime(in_file)\n",
    "\n",
    "if __name__ == '__main__':\n",
    "    main()\n",
    "\n",
    "\n",
    "\n"
   ]
  },
  {
   "cell_type": "code",
   "execution_count": null,
   "metadata": {
    "collapsed": true
   },
   "outputs": [],
   "source": []
  },
  {
   "cell_type": "code",
   "execution_count": null,
   "metadata": {
    "collapsed": true
   },
   "outputs": [],
   "source": []
  },
  {
   "cell_type": "code",
   "execution_count": null,
   "metadata": {
    "collapsed": true
   },
   "outputs": [],
   "source": []
  },
  {
   "cell_type": "code",
   "execution_count": null,
   "metadata": {
    "collapsed": true
   },
   "outputs": [],
   "source": []
  },
  {
   "cell_type": "code",
   "execution_count": null,
   "metadata": {
    "collapsed": true
   },
   "outputs": [],
   "source": []
  },
  {
   "cell_type": "code",
   "execution_count": null,
   "metadata": {
    "collapsed": true
   },
   "outputs": [],
   "source": []
  },
  {
   "cell_type": "code",
   "execution_count": null,
   "metadata": {
    "collapsed": true
   },
   "outputs": [],
   "source": []
  }
 ],
 "metadata": {
  "kernelspec": {
   "display_name": "Python 2",
   "language": "python",
   "name": "python2"
  },
  "language_info": {
   "codemirror_mode": {
    "name": "ipython",
    "version": 2
   },
   "file_extension": ".py",
   "mimetype": "text/x-python",
   "name": "python",
   "nbconvert_exporter": "python",
   "pygments_lexer": "ipython2",
   "version": "2.7.12"
  }
 },
 "nbformat": 4,
 "nbformat_minor": 1
}
